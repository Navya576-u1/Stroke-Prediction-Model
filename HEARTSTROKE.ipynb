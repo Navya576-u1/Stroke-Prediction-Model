{
 "cells": [
  {
   "cell_type": "markdown",
   "id": "1215a2a5-c9d6-48c4-a2d0-d9378de1478e",
   "metadata": {},
   "source": [
    "STROKE DATASET-TO PREDICT WHETHER A PERSON WILL HAVE STROKE BASED ON THE FEATURES"
   ]
  },
  {
   "cell_type": "code",
   "execution_count": 20,
   "id": "ec9693d4-9c9c-46fd-b5df-4a65d2ec4ce4",
   "metadata": {},
   "outputs": [],
   "source": [
    "#Import Libraries\n",
    "import pandas as pd\n",
    "import numpy as np\n",
    "import seaborn as sns\n",
    "import matplotlib.pyplot as plt\n",
    "from sklearn.model_selection import train_test_split, GridSearchCV\n",
    "from sklearn.preprocessing import StandardScaler, LabelEncoder\n",
    "from sklearn.metrics import classification_report, accuracy_score, roc_auc_score, precision_score, recall_score, f1_score\n",
    "from sklearn.linear_model import LogisticRegression\n",
    "from sklearn.ensemble import RandomForestClassifier\n",
    "from sklearn.tree import DecisionTreeClassifier\n",
    "from sklearn.svm import SVC\n",
    "from sklearn.naive_bayes import GaussianNB\n",
    "from sklearn.neighbors import KNeighborsClassifier\n",
    "from imblearn.over_sampling import SMOTE"
   ]
  },
  {
   "cell_type": "code",
   "execution_count": 22,
   "id": "63d290b0-0379-4d79-a689-d8dc8101ce22",
   "metadata": {},
   "outputs": [
    {
     "ename": "FileNotFoundError",
     "evalue": "[Errno 2] No such file or directory: 'healthcare-dataset-stroke-data.csv'",
     "output_type": "error",
     "traceback": [
      "\u001b[1;31m---------------------------------------------------------------------------\u001b[0m",
      "\u001b[1;31mFileNotFoundError\u001b[0m                         Traceback (most recent call last)",
      "Cell \u001b[1;32mIn[22], line 2\u001b[0m\n\u001b[0;32m      1\u001b[0m \u001b[38;5;66;03m#Load The Dataset\u001b[39;00m\n\u001b[1;32m----> 2\u001b[0m df\u001b[38;5;241m=\u001b[39mpd\u001b[38;5;241m.\u001b[39mread_csv(\u001b[38;5;124m'\u001b[39m\u001b[38;5;124mhealthcare-dataset-stroke-data.csv\u001b[39m\u001b[38;5;124m'\u001b[39m)\n\u001b[0;32m      3\u001b[0m df\n",
      "File \u001b[1;32mC:\\ProgramData\\anaconda3\\Lib\\site-packages\\pandas\\io\\parsers\\readers.py:1026\u001b[0m, in \u001b[0;36mread_csv\u001b[1;34m(filepath_or_buffer, sep, delimiter, header, names, index_col, usecols, dtype, engine, converters, true_values, false_values, skipinitialspace, skiprows, skipfooter, nrows, na_values, keep_default_na, na_filter, verbose, skip_blank_lines, parse_dates, infer_datetime_format, keep_date_col, date_parser, date_format, dayfirst, cache_dates, iterator, chunksize, compression, thousands, decimal, lineterminator, quotechar, quoting, doublequote, escapechar, comment, encoding, encoding_errors, dialect, on_bad_lines, delim_whitespace, low_memory, memory_map, float_precision, storage_options, dtype_backend)\u001b[0m\n\u001b[0;32m   1013\u001b[0m kwds_defaults \u001b[38;5;241m=\u001b[39m _refine_defaults_read(\n\u001b[0;32m   1014\u001b[0m     dialect,\n\u001b[0;32m   1015\u001b[0m     delimiter,\n\u001b[1;32m   (...)\u001b[0m\n\u001b[0;32m   1022\u001b[0m     dtype_backend\u001b[38;5;241m=\u001b[39mdtype_backend,\n\u001b[0;32m   1023\u001b[0m )\n\u001b[0;32m   1024\u001b[0m kwds\u001b[38;5;241m.\u001b[39mupdate(kwds_defaults)\n\u001b[1;32m-> 1026\u001b[0m \u001b[38;5;28;01mreturn\u001b[39;00m _read(filepath_or_buffer, kwds)\n",
      "File \u001b[1;32mC:\\ProgramData\\anaconda3\\Lib\\site-packages\\pandas\\io\\parsers\\readers.py:620\u001b[0m, in \u001b[0;36m_read\u001b[1;34m(filepath_or_buffer, kwds)\u001b[0m\n\u001b[0;32m    617\u001b[0m _validate_names(kwds\u001b[38;5;241m.\u001b[39mget(\u001b[38;5;124m\"\u001b[39m\u001b[38;5;124mnames\u001b[39m\u001b[38;5;124m\"\u001b[39m, \u001b[38;5;28;01mNone\u001b[39;00m))\n\u001b[0;32m    619\u001b[0m \u001b[38;5;66;03m# Create the parser.\u001b[39;00m\n\u001b[1;32m--> 620\u001b[0m parser \u001b[38;5;241m=\u001b[39m TextFileReader(filepath_or_buffer, \u001b[38;5;241m*\u001b[39m\u001b[38;5;241m*\u001b[39mkwds)\n\u001b[0;32m    622\u001b[0m \u001b[38;5;28;01mif\u001b[39;00m chunksize \u001b[38;5;129;01mor\u001b[39;00m iterator:\n\u001b[0;32m    623\u001b[0m     \u001b[38;5;28;01mreturn\u001b[39;00m parser\n",
      "File \u001b[1;32mC:\\ProgramData\\anaconda3\\Lib\\site-packages\\pandas\\io\\parsers\\readers.py:1620\u001b[0m, in \u001b[0;36mTextFileReader.__init__\u001b[1;34m(self, f, engine, **kwds)\u001b[0m\n\u001b[0;32m   1617\u001b[0m     \u001b[38;5;28mself\u001b[39m\u001b[38;5;241m.\u001b[39moptions[\u001b[38;5;124m\"\u001b[39m\u001b[38;5;124mhas_index_names\u001b[39m\u001b[38;5;124m\"\u001b[39m] \u001b[38;5;241m=\u001b[39m kwds[\u001b[38;5;124m\"\u001b[39m\u001b[38;5;124mhas_index_names\u001b[39m\u001b[38;5;124m\"\u001b[39m]\n\u001b[0;32m   1619\u001b[0m \u001b[38;5;28mself\u001b[39m\u001b[38;5;241m.\u001b[39mhandles: IOHandles \u001b[38;5;241m|\u001b[39m \u001b[38;5;28;01mNone\u001b[39;00m \u001b[38;5;241m=\u001b[39m \u001b[38;5;28;01mNone\u001b[39;00m\n\u001b[1;32m-> 1620\u001b[0m \u001b[38;5;28mself\u001b[39m\u001b[38;5;241m.\u001b[39m_engine \u001b[38;5;241m=\u001b[39m \u001b[38;5;28mself\u001b[39m\u001b[38;5;241m.\u001b[39m_make_engine(f, \u001b[38;5;28mself\u001b[39m\u001b[38;5;241m.\u001b[39mengine)\n",
      "File \u001b[1;32mC:\\ProgramData\\anaconda3\\Lib\\site-packages\\pandas\\io\\parsers\\readers.py:1880\u001b[0m, in \u001b[0;36mTextFileReader._make_engine\u001b[1;34m(self, f, engine)\u001b[0m\n\u001b[0;32m   1878\u001b[0m     \u001b[38;5;28;01mif\u001b[39;00m \u001b[38;5;124m\"\u001b[39m\u001b[38;5;124mb\u001b[39m\u001b[38;5;124m\"\u001b[39m \u001b[38;5;129;01mnot\u001b[39;00m \u001b[38;5;129;01min\u001b[39;00m mode:\n\u001b[0;32m   1879\u001b[0m         mode \u001b[38;5;241m+\u001b[39m\u001b[38;5;241m=\u001b[39m \u001b[38;5;124m\"\u001b[39m\u001b[38;5;124mb\u001b[39m\u001b[38;5;124m\"\u001b[39m\n\u001b[1;32m-> 1880\u001b[0m \u001b[38;5;28mself\u001b[39m\u001b[38;5;241m.\u001b[39mhandles \u001b[38;5;241m=\u001b[39m get_handle(\n\u001b[0;32m   1881\u001b[0m     f,\n\u001b[0;32m   1882\u001b[0m     mode,\n\u001b[0;32m   1883\u001b[0m     encoding\u001b[38;5;241m=\u001b[39m\u001b[38;5;28mself\u001b[39m\u001b[38;5;241m.\u001b[39moptions\u001b[38;5;241m.\u001b[39mget(\u001b[38;5;124m\"\u001b[39m\u001b[38;5;124mencoding\u001b[39m\u001b[38;5;124m\"\u001b[39m, \u001b[38;5;28;01mNone\u001b[39;00m),\n\u001b[0;32m   1884\u001b[0m     compression\u001b[38;5;241m=\u001b[39m\u001b[38;5;28mself\u001b[39m\u001b[38;5;241m.\u001b[39moptions\u001b[38;5;241m.\u001b[39mget(\u001b[38;5;124m\"\u001b[39m\u001b[38;5;124mcompression\u001b[39m\u001b[38;5;124m\"\u001b[39m, \u001b[38;5;28;01mNone\u001b[39;00m),\n\u001b[0;32m   1885\u001b[0m     memory_map\u001b[38;5;241m=\u001b[39m\u001b[38;5;28mself\u001b[39m\u001b[38;5;241m.\u001b[39moptions\u001b[38;5;241m.\u001b[39mget(\u001b[38;5;124m\"\u001b[39m\u001b[38;5;124mmemory_map\u001b[39m\u001b[38;5;124m\"\u001b[39m, \u001b[38;5;28;01mFalse\u001b[39;00m),\n\u001b[0;32m   1886\u001b[0m     is_text\u001b[38;5;241m=\u001b[39mis_text,\n\u001b[0;32m   1887\u001b[0m     errors\u001b[38;5;241m=\u001b[39m\u001b[38;5;28mself\u001b[39m\u001b[38;5;241m.\u001b[39moptions\u001b[38;5;241m.\u001b[39mget(\u001b[38;5;124m\"\u001b[39m\u001b[38;5;124mencoding_errors\u001b[39m\u001b[38;5;124m\"\u001b[39m, \u001b[38;5;124m\"\u001b[39m\u001b[38;5;124mstrict\u001b[39m\u001b[38;5;124m\"\u001b[39m),\n\u001b[0;32m   1888\u001b[0m     storage_options\u001b[38;5;241m=\u001b[39m\u001b[38;5;28mself\u001b[39m\u001b[38;5;241m.\u001b[39moptions\u001b[38;5;241m.\u001b[39mget(\u001b[38;5;124m\"\u001b[39m\u001b[38;5;124mstorage_options\u001b[39m\u001b[38;5;124m\"\u001b[39m, \u001b[38;5;28;01mNone\u001b[39;00m),\n\u001b[0;32m   1889\u001b[0m )\n\u001b[0;32m   1890\u001b[0m \u001b[38;5;28;01massert\u001b[39;00m \u001b[38;5;28mself\u001b[39m\u001b[38;5;241m.\u001b[39mhandles \u001b[38;5;129;01mis\u001b[39;00m \u001b[38;5;129;01mnot\u001b[39;00m \u001b[38;5;28;01mNone\u001b[39;00m\n\u001b[0;32m   1891\u001b[0m f \u001b[38;5;241m=\u001b[39m \u001b[38;5;28mself\u001b[39m\u001b[38;5;241m.\u001b[39mhandles\u001b[38;5;241m.\u001b[39mhandle\n",
      "File \u001b[1;32mC:\\ProgramData\\anaconda3\\Lib\\site-packages\\pandas\\io\\common.py:873\u001b[0m, in \u001b[0;36mget_handle\u001b[1;34m(path_or_buf, mode, encoding, compression, memory_map, is_text, errors, storage_options)\u001b[0m\n\u001b[0;32m    868\u001b[0m \u001b[38;5;28;01melif\u001b[39;00m \u001b[38;5;28misinstance\u001b[39m(handle, \u001b[38;5;28mstr\u001b[39m):\n\u001b[0;32m    869\u001b[0m     \u001b[38;5;66;03m# Check whether the filename is to be opened in binary mode.\u001b[39;00m\n\u001b[0;32m    870\u001b[0m     \u001b[38;5;66;03m# Binary mode does not support 'encoding' and 'newline'.\u001b[39;00m\n\u001b[0;32m    871\u001b[0m     \u001b[38;5;28;01mif\u001b[39;00m ioargs\u001b[38;5;241m.\u001b[39mencoding \u001b[38;5;129;01mand\u001b[39;00m \u001b[38;5;124m\"\u001b[39m\u001b[38;5;124mb\u001b[39m\u001b[38;5;124m\"\u001b[39m \u001b[38;5;129;01mnot\u001b[39;00m \u001b[38;5;129;01min\u001b[39;00m ioargs\u001b[38;5;241m.\u001b[39mmode:\n\u001b[0;32m    872\u001b[0m         \u001b[38;5;66;03m# Encoding\u001b[39;00m\n\u001b[1;32m--> 873\u001b[0m         handle \u001b[38;5;241m=\u001b[39m \u001b[38;5;28mopen\u001b[39m(\n\u001b[0;32m    874\u001b[0m             handle,\n\u001b[0;32m    875\u001b[0m             ioargs\u001b[38;5;241m.\u001b[39mmode,\n\u001b[0;32m    876\u001b[0m             encoding\u001b[38;5;241m=\u001b[39mioargs\u001b[38;5;241m.\u001b[39mencoding,\n\u001b[0;32m    877\u001b[0m             errors\u001b[38;5;241m=\u001b[39merrors,\n\u001b[0;32m    878\u001b[0m             newline\u001b[38;5;241m=\u001b[39m\u001b[38;5;124m\"\u001b[39m\u001b[38;5;124m\"\u001b[39m,\n\u001b[0;32m    879\u001b[0m         )\n\u001b[0;32m    880\u001b[0m     \u001b[38;5;28;01melse\u001b[39;00m:\n\u001b[0;32m    881\u001b[0m         \u001b[38;5;66;03m# Binary mode\u001b[39;00m\n\u001b[0;32m    882\u001b[0m         handle \u001b[38;5;241m=\u001b[39m \u001b[38;5;28mopen\u001b[39m(handle, ioargs\u001b[38;5;241m.\u001b[39mmode)\n",
      "\u001b[1;31mFileNotFoundError\u001b[0m: [Errno 2] No such file or directory: 'healthcare-dataset-stroke-data.csv'"
     ]
    }
   ],
   "source": [
    "#Load The Dataset\n",
    "df=pd.read_csv('healthcare-dataset-stroke-data.csv')\n",
    "df"
   ]
  },
  {
   "cell_type": "code",
   "execution_count": null,
   "id": "384de783-cf33-4acb-848c-be73aaefaa14",
   "metadata": {},
   "outputs": [],
   "source": []
  },
  {
   "cell_type": "code",
   "execution_count": null,
   "id": "d293d785-c9de-4b65-959f-e9e2e1c57787",
   "metadata": {},
   "outputs": [],
   "source": [
    "df.shape"
   ]
  },
  {
   "cell_type": "code",
   "execution_count": null,
   "id": "fa4aaf5b-bb7f-4d06-bb68-6b5992fe869b",
   "metadata": {},
   "outputs": [],
   "source": [
    "df.columns"
   ]
  },
  {
   "cell_type": "code",
   "execution_count": null,
   "id": "cfb391e9-621f-4973-83ff-4176ed1219ab",
   "metadata": {
    "scrolled": true
   },
   "outputs": [],
   "source": [
    "df.describe()"
   ]
  },
  {
   "cell_type": "code",
   "execution_count": null,
   "id": "ebaa1aac-d5f3-4aa8-967e-ae33bc2e7300",
   "metadata": {},
   "outputs": [],
   "source": [
    "df.info()"
   ]
  },
  {
   "cell_type": "code",
   "execution_count": null,
   "id": "7789e3b1-c1b0-4d58-b1db-a3997353f97c",
   "metadata": {},
   "outputs": [],
   "source": [
    "#Drop 'id'\n",
    "df.drop('id', axis=1, inplace=True)"
   ]
  },
  {
   "cell_type": "code",
   "execution_count": null,
   "id": "421ca07f-c16d-4051-9edd-ee9b1bde2b52",
   "metadata": {},
   "outputs": [],
   "source": [
    "#Check the number of null values in each column\n",
    "df.isnull().sum()"
   ]
  },
  {
   "cell_type": "code",
   "execution_count": null,
   "id": "09bcff3e-5bcc-4d31-a813-5dfb3eaf3ac6",
   "metadata": {},
   "outputs": [],
   "source": [
    "#Handle Missing Values\n",
    "df['bmi'] = df['bmi'].fillna(df['bmi'].median())"
   ]
  },
  {
   "cell_type": "code",
   "execution_count": null,
   "id": "d7b591ef-9446-4f0d-a58c-7710ecd75153",
   "metadata": {},
   "outputs": [],
   "source": [
    "df.isnull().sum()"
   ]
  },
  {
   "cell_type": "code",
   "execution_count": null,
   "id": "0a3d1afe-c7a9-49a5-8bbd-1cbed89f71cd",
   "metadata": {},
   "outputs": [],
   "source": []
  },
  {
   "cell_type": "code",
   "execution_count": null,
   "id": "90d4901b-5530-48d3-b538-2f8912ef6bdd",
   "metadata": {
    "scrolled": true
   },
   "outputs": [],
   "source": [
    "# Finding the ouliers in the datasets\n",
    "numeric_df = df.select_dtypes(include='number')\n",
    "melted = numeric_df.melt()\n",
    "sns.boxplot(x='variable', y='value', data=melted)\n",
    "plt.xticks(rotation=45)\n",
    "plt.title('Outliers')\n",
    "plt.tight_layout()\n",
    "plt.show()"
   ]
  },
  {
   "cell_type": "code",
   "execution_count": null,
   "id": "71d3a92d-ab31-42d3-9c54-811e564dc978",
   "metadata": {},
   "outputs": [],
   "source": [
    "#handling the outliers \n",
    "def iqr_cap(df, column):\n",
    "    Q1 = df[column].quantile(0.25)\n",
    "    Q3 = df[column].quantile(0.75)\n",
    "    IQR = Q3 - Q1\n",
    "    lower = Q1 - 1.5 * IQR\n",
    "    upper = Q3 + 1.5 * IQR\n",
    "    df[column] = df[column].clip(lower,upper)\n",
    "iqr_cap(df, 'avg_glucose_level')\n",
    "iqr_cap(df, 'bmi')\n"
   ]
  },
  {
   "cell_type": "code",
   "execution_count": null,
   "id": "793859ab-3f5c-405e-95f6-62c8053a2572",
   "metadata": {},
   "outputs": [],
   "source": [
    "#Plotting the outliers\n",
    "plt.figure(figsize=(12, 5))\n",
    "plt.subplot(1, 2, 1)\n",
    "sns.boxplot(y=df['avg_glucose_level'])\n",
    "plt.title(\"Glucose Level After IQR Capping\")\n",
    "plt.subplot(1, 2, 2)\n",
    "sns.boxplot(y=df['bmi'])\n",
    "plt.title(\"BMI After IQR Capping\")\n",
    "plt.tight_layout()\n",
    "plt.show()"
   ]
  },
  {
   "cell_type": "code",
   "execution_count": null,
   "id": "677f74c2-3192-4aa0-a929-584a147d86ae",
   "metadata": {},
   "outputs": [],
   "source": [
    "df.shape"
   ]
  },
  {
   "cell_type": "code",
   "execution_count": null,
   "id": "f78ff8c2-b0f8-47e8-99d7-47588dc141be",
   "metadata": {},
   "outputs": [],
   "source": [
    "sns.countplot(x='stroke', data=df)\n",
    "plt.title(\"Stroke Distribution (0 = No, 1 = Yes)\")\n",
    "plt.show()"
   ]
  },
  {
   "cell_type": "code",
   "execution_count": null,
   "id": "ee0a4158-08d0-43d8-a053-c8184b4673d4",
   "metadata": {},
   "outputs": [],
   "source": [
    "sns.histplot(df['age'], kde=True)\n",
    "plt.title(\"Age Distribution\")\n",
    "plt.show()"
   ]
  },
  {
   "cell_type": "code",
   "execution_count": null,
   "id": "b9c6d537-737a-4701-b369-081f2d03b207",
   "metadata": {},
   "outputs": [],
   "source": [
    "sns.countplot(x='gender', hue='stroke', data=df)\n",
    "plt.title(\"Stroke Count by Gender\")\n",
    "plt.show()"
   ]
  },
  {
   "cell_type": "code",
   "execution_count": null,
   "id": "5dd84185-2811-447a-a518-4693d54889b3",
   "metadata": {},
   "outputs": [],
   "source": [
    "sns.countplot(x='smoking_status', hue='stroke', data=df)\n",
    "plt.title(\"Stroke Count by Smoking Status\")\n",
    "plt.xticks(rotation=0)\n",
    "plt.show()"
   ]
  },
  {
   "cell_type": "code",
   "execution_count": null,
   "id": "205f053c-018a-4d51-9ce6-ad0e2355a3e7",
   "metadata": {},
   "outputs": [],
   "source": [
    "sns.countplot(x='work_type', hue='stroke', data=df)\n",
    "plt.title(\"Stroke Count by Work Type\")\n",
    "plt.xticks(rotation=0)\n",
    "plt.show()"
   ]
  },
  {
   "cell_type": "code",
   "execution_count": null,
   "id": "a32d4bf4-c05a-4815-a025-08f6880aeebe",
   "metadata": {},
   "outputs": [],
   "source": []
  },
  {
   "cell_type": "code",
   "execution_count": null,
   "id": "2235c44f-42fd-4a81-aab5-f9b0475a4585",
   "metadata": {},
   "outputs": [],
   "source": []
  },
  {
   "cell_type": "code",
   "execution_count": null,
   "id": "25cdd09a-1615-48f6-8a3a-ad69a3a03e67",
   "metadata": {},
   "outputs": [],
   "source": []
  },
  {
   "cell_type": "code",
   "execution_count": null,
   "id": "028f5896-746a-4f67-88ad-6c43c0b07388",
   "metadata": {},
   "outputs": [],
   "source": []
  },
  {
   "cell_type": "code",
   "execution_count": null,
   "id": "fc0492aa-c58c-486a-818c-a3dacece7eb4",
   "metadata": {},
   "outputs": [],
   "source": [
    "#Encoding the data\n",
    "from sklearn.preprocessing import LabelEncoder\n",
    "l_gen=LabelEncoder()\n",
    "l_evrmd=LabelEncoder()\n",
    "l_restype=LabelEncoder()\n",
    "l_worktype=LabelEncoder()\n",
    "l_smoking=LabelEncoder()\n",
    "df['gender']=l_gen.fit_transform(df['gender'])\n",
    "df['ever_married']=l_evrmd.fit_transform(df['ever_married'])\n",
    "df['Residence_type']=l_restype.fit_transform(df['Residence_type'])\n",
    "df['work_type']=l_worktype.fit_transform(df['work_type'])\n",
    "df['smoking_status']=l_smoking.fit_transform(df['smoking_status'])\n"
   ]
  },
  {
   "cell_type": "code",
   "execution_count": null,
   "id": "8e66195e-7cd0-4465-ad62-09a32e8fa642",
   "metadata": {},
   "outputs": [],
   "source": [
    "df"
   ]
  },
  {
   "cell_type": "code",
   "execution_count": null,
   "id": "d80e8e4d-a214-4bb5-a81b-d092a5c43dfb",
   "metadata": {},
   "outputs": [],
   "source": []
  },
  {
   "cell_type": "code",
   "execution_count": null,
   "id": "de51ed33-cae1-4a83-a87e-649f1b61ce35",
   "metadata": {},
   "outputs": [],
   "source": [
    "sns.histplot(df['age'], kde=True)\n",
    "plt.title(\"Age Distribution\")\n",
    "plt.show()\n"
   ]
  },
  {
   "cell_type": "code",
   "execution_count": null,
   "id": "2171e15c-8335-4421-a1e8-83a892487fb1",
   "metadata": {},
   "outputs": [],
   "source": [
    "sns.countplot(x='gender', hue='stroke', data=df)\n",
    "plt.title(\"Stroke Count by Gender\")\n",
    "plt.show()"
   ]
  },
  {
   "cell_type": "code",
   "execution_count": null,
   "id": "9c30840d-ae76-42dd-aeb7-956b26bbc7d5",
   "metadata": {},
   "outputs": [],
   "source": [
    "sns.countplot(x='smoking_status', hue='stroke', data=df)\n",
    "plt.title(\"Stroke Count by Smoking Status\")\n",
    "plt.xticks(rotation=0)\n",
    "plt.show()"
   ]
  },
  {
   "cell_type": "code",
   "execution_count": null,
   "id": "d89f2cc8-2e16-411f-b219-2db5cbd4814b",
   "metadata": {},
   "outputs": [],
   "source": [
    "sns.countplot(x='work_type', hue='stroke', data=df)\n",
    "plt.title(\"Stroke Count by Work Type\")\n",
    "plt.xticks(rotation=0)\n",
    "plt.show()"
   ]
  },
  {
   "cell_type": "code",
   "execution_count": null,
   "id": "ecb073d4-1ab9-4cab-b1b1-b9515280c811",
   "metadata": {},
   "outputs": [],
   "source": [
    "df['work_type'].unique()"
   ]
  },
  {
   "cell_type": "code",
   "execution_count": null,
   "id": "4422838b-e2bf-4d30-b05c-6394863797cd",
   "metadata": {},
   "outputs": [],
   "source": [
    "#  Split Features & Target\n",
    "x = df.drop('stroke', axis=1)\n",
    "y = df['stroke']\n",
    "\n",
    "#  Handle Imbalance with SMOTE\n",
    "smote = SMOTE(random_state=42)\n",
    "x_resampled, y_resampled = smote.fit_resample(x, y)\n",
    "\n",
    "# Split into Train and Test\n",
    "x_train, x_test, y_train, y_test = train_test_split(x_resampled, y_resampled, test_size=0.3, random_state=42)"
   ]
  },
  {
   "cell_type": "code",
   "execution_count": null,
   "id": "c26a3d4e-e700-4416-8458-a2792d811523",
   "metadata": {},
   "outputs": [],
   "source": [
    "y_test.value_counts()"
   ]
  },
  {
   "cell_type": "code",
   "execution_count": null,
   "id": "b181266a-db05-4366-902e-b9899cd67066",
   "metadata": {},
   "outputs": [],
   "source": [
    "# 10. Standardize Feature\n",
    "scaler = StandardScaler()\n",
    "x_train = scaler.fit_transform(x_train)\n",
    "x_test = scaler.transform(x_test)"
   ]
  },
  {
   "cell_type": "code",
   "execution_count": null,
   "id": "08ba804d-b81e-4dfb-8f6d-b7edb582d569",
   "metadata": {},
   "outputs": [],
   "source": [
    "sns.countplot(x='stroke', data=df)\n",
    "plt.title(\"Stroke Distribution (0 = No, 1 = Yes)\")\n",
    "plt.show()"
   ]
  },
  {
   "cell_type": "markdown",
   "id": "6c1f096d-9429-4fde-a94b-b5e672d2e364",
   "metadata": {},
   "source": [
    "Logistic Regression"
   ]
  },
  {
   "cell_type": "code",
   "execution_count": null,
   "id": "214530b7-5e69-4d79-b798-faabbc6ddb3d",
   "metadata": {},
   "outputs": [],
   "source": [
    "lr=LogisticRegression()\n",
    "lr_params = {'C': [0.1, 1, 10]}\n",
    "lr_grid = GridSearchCV(lr,lr_params, cv=5, scoring='f1') \n",
    "lr_grid.fit(x_train, y_train)"
   ]
  },
  {
   "cell_type": "code",
   "execution_count": null,
   "id": "fa3abe38-95d4-4630-9ea8-02284ad66a04",
   "metadata": {},
   "outputs": [],
   "source": [
    "model_lr=lr_grid.best_estimator_\n",
    "y_pred_lr=model_lr.predict(x_test)"
   ]
  },
  {
   "cell_type": "code",
   "execution_count": null,
   "id": "8328abf9-55fa-4e6d-bec4-0eec31ca14f3",
   "metadata": {},
   "outputs": [],
   "source": [
    "print(\"\\nLogistics Regression\")\n",
    "y_prob_lr = model_lr.predict_proba(x_test)[:,1]\n",
    "y_pred_lr = model_lr.predict(x_test)\n",
    "print(\"Accuracy:\", accuracy_score(y_test, y_pred_lr)) \n",
    "print(\"Precision:\", precision_score(y_test, y_pred_lr))\n",
    "print(\"Recall:\", recall_score(y_test, y_pred_lr))\n",
    "print(\"F1 Score:\", f1_score(y_test, y_pred_lr))\n",
    "print(\"ROC AUC:\", roc_auc_score(y_test, y_prob_lr)) \n",
    "print(\"Classification Report:\\n\", classification_report(y_test, y_pred_lr))\n"
   ]
  },
  {
   "cell_type": "markdown",
   "id": "bafcb5d3-425c-43ca-9072-ca8c16e93b95",
   "metadata": {},
   "source": [
    "RandomForest Classifier"
   ]
  },
  {
   "cell_type": "code",
   "execution_count": null,
   "id": "a32f908a-0b47-4a16-9de0-f27b762b8941",
   "metadata": {},
   "outputs": [],
   "source": [
    "rf=RandomForestClassifier()\n",
    "rf_params = {'n_estimators': [100,150, 200], 'max_depth': [None, 10, 20]}\n",
    "rf_grid = GridSearchCV(rf,rf_params, cv=5, scoring='f1') \n",
    "rf_grid.fit(x_train, y_train)"
   ]
  },
  {
   "cell_type": "code",
   "execution_count": null,
   "id": "daaa8848-49a2-46f2-8720-66520e298ee9",
   "metadata": {},
   "outputs": [],
   "source": [
    "model_rf = rf_grid.best_estimator_\n",
    "y_pred_rf=model_rf.predict(x_test)"
   ]
  },
  {
   "cell_type": "code",
   "execution_count": null,
   "id": "79e6c549-d972-4a34-8a7e-1c46436903bf",
   "metadata": {},
   "outputs": [],
   "source": [
    "print(\"\\nRandomForestClassifier\")\n",
    "y_prob_rf = model_rf.predict_proba(x_test)[:,1] \n",
    "y_pred_rf = model_rf.predict(x_test) \n",
    "print(\"Accuracy:\", accuracy_score(y_test, y_pred_rf)) \n",
    "print(\"Precision:\", precision_score(y_test, y_pred_rf))\n",
    "print(\"Recall:\", recall_score(y_test, y_pred_rf))\n",
    "print(\"F1 Score:\", f1_score(y_test, y_pred_rf))\n",
    "print(\"ROC AUC:\", roc_auc_score(y_test, y_prob_rf)) \n",
    "print(\"Classification Report:\\n\", classification_report(y_test, y_pred_rf))\n"
   ]
  },
  {
   "cell_type": "markdown",
   "id": "e1716102-e7eb-4d95-8c9f-3f43620faff6",
   "metadata": {},
   "source": [
    "DecisionTreeClassifier"
   ]
  },
  {
   "cell_type": "code",
   "execution_count": null,
   "id": "e985d381-6bea-406b-a8ae-3cc60593a6a0",
   "metadata": {},
   "outputs": [],
   "source": [
    "dt=DecisionTreeClassifier()\n",
    "dt_params = {'max_depth': [None, 5, 10]}\n",
    "dt_grid = GridSearchCV(dt,dt_params, cv=5, scoring='f1') \n",
    "dt_grid.fit(x_train, y_train)"
   ]
  },
  {
   "cell_type": "code",
   "execution_count": null,
   "id": "3d4339e7-1aff-4c2b-9ad6-7edffd60a140",
   "metadata": {},
   "outputs": [],
   "source": [
    "model_dt = dt_grid.best_estimator_\n",
    "y_pred_dt=model_dt.predict(x_test)\n"
   ]
  },
  {
   "cell_type": "code",
   "execution_count": null,
   "id": "ca396417-5102-4934-a5ce-81ecb69d979b",
   "metadata": {},
   "outputs": [],
   "source": [
    "print(\"\\nDecisionTreeClassifier\")\n",
    "y_prob_dt = model_dt.predict_proba(x_test)[:,1] \n",
    "y_pred_dt = model_dt.predict(x_test) \n",
    "print(\"Accuracy:\", accuracy_score(y_test, y_pred_dt)) \n",
    "print(\"Precision:\", precision_score(y_test, y_pred_dt))\n",
    "print(\"Recall:\", recall_score(y_test, y_pred_dt))\n",
    "print(\"F1 Score:\", f1_score(y_test, y_pred_dt))\n",
    "print(\"ROC AUC:\", roc_auc_score(y_test, y_prob_dt)) \n",
    "print(\"Classification Report:\\n\", classification_report(y_test, y_pred_dt))\n"
   ]
  },
  {
   "cell_type": "markdown",
   "id": "274e411e-6242-4632-b050-0e5c2fa01399",
   "metadata": {},
   "source": [
    "Support Vector Machine"
   ]
  },
  {
   "cell_type": "code",
   "execution_count": null,
   "id": "5444770a-fec7-40cc-a010-9bd5235ed328",
   "metadata": {},
   "outputs": [],
   "source": [
    "svm=SVC()\n",
    "svm_params= {'C': [0.1, 1,], 'kernel': ['linear'],'gamma': ['scale']}\n",
    "svm_grid= GridSearchCV(svm,svm_params, cv=5, scoring='f1') \n",
    "svm_grid.fit(x_train, y_train)"
   ]
  },
  {
   "cell_type": "code",
   "execution_count": null,
   "id": "91e27830-307c-4847-873d-6dfb0e2b4e6d",
   "metadata": {},
   "outputs": [],
   "source": [
    "model_svm = svm_grid.best_estimator_\n",
    "y_pred_svm=model_svm.predict(x_test)"
   ]
  },
  {
   "cell_type": "code",
   "execution_count": null,
   "id": "773a3566-17a2-482d-97e4-1616ac17a367",
   "metadata": {},
   "outputs": [],
   "source": [
    "print(\"\\nSupportVectorMachine\")\n",
    "y_pred_svm = model_svm.predict(x_test) \n",
    "print(\"Accuracy:\", accuracy_score(y_test, y_pred_svm)) \n",
    "print(\"Precision:\", precision_score(y_test, y_pred_svm))\n",
    "print(\"Recall:\", recall_score(y_test, y_pred_svm))\n",
    "print(\"F1 Score:\", f1_score(y_test, y_pred_svm))\n",
    "print(\"ROC AUC:\", roc_auc_score(y_test, y_pred_svm)) \n",
    "print(\"Classification Report:\\n\", classification_report(y_test, y_pred_svm))"
   ]
  },
  {
   "cell_type": "markdown",
   "id": "71a7dfb7-ab2b-4ecd-a79f-74ef590fbe80",
   "metadata": {},
   "source": [
    "XGBoost"
   ]
  },
  {
   "cell_type": "code",
   "execution_count": null,
   "id": "295bc207-8fcc-4661-b4ce-a9f87a18d077",
   "metadata": {},
   "outputs": [],
   "source": [
    "pip install xgboost"
   ]
  },
  {
   "cell_type": "code",
   "execution_count": null,
   "id": "f98996b7-efd6-4acf-a615-af7573b7ec9e",
   "metadata": {},
   "outputs": [],
   "source": [
    "from xgboost import XGBClassifier"
   ]
  },
  {
   "cell_type": "code",
   "execution_count": null,
   "id": "28ccd9f2-dadd-4a05-9a35-fe87049a5ff3",
   "metadata": {},
   "outputs": [],
   "source": [
    "xgb = XGBClassifier()\n",
    "xgb_params = {'n_estimators': [100],'learning_rate': [0.05],'max_depth': [3, 5]}\n",
    "xgb_grid = GridSearchCV(xgb, xgb_params, cv=3,scoring='accuracy')\n",
    "xgb_grid.fit(x_train, y_train)"
   ]
  },
  {
   "cell_type": "code",
   "execution_count": null,
   "id": "dfb4ff9c-c3ad-413e-a047-eedae9486ff7",
   "metadata": {},
   "outputs": [],
   "source": [
    "model_xgb = xgb_grid.best_estimator_\n",
    "y_pred_xgb = model_xgb.predict(x_test)"
   ]
  },
  {
   "cell_type": "code",
   "execution_count": null,
   "id": "071819f6-5964-422c-8441-51648f53cac1",
   "metadata": {},
   "outputs": [],
   "source": [
    "print(\"\\nXGBoost\")\n",
    "y_pred_xgb = model_xgb.predict(x_test) \n",
    "print(\"Accuracy:\", accuracy_score(y_test, y_pred_xgb)) \n",
    "print(\"Precision:\", precision_score(y_test, y_pred_xgb))\n",
    "print(\"Recall:\", recall_score(y_test, y_pred_xgb))\n",
    "print(\"F1 Score:\", f1_score(y_test, y_pred_xgb))\n",
    "print(\"ROC AUC:\", roc_auc_score(y_test, y_pred_xgb)) \n",
    "print(\"Classification Report:\\n\", classification_report(y_test, y_pred_xgb))\n"
   ]
  },
  {
   "cell_type": "code",
   "execution_count": null,
   "id": "c9ac5dda-1255-4709-a0e2-e4b250efadb0",
   "metadata": {},
   "outputs": [],
   "source": []
  },
  {
   "cell_type": "markdown",
   "id": "7d6814b7-a858-4dbd-a6af-928171d73024",
   "metadata": {},
   "source": [
    "Naive Bayes"
   ]
  },
  {
   "cell_type": "code",
   "execution_count": null,
   "id": "21bc385b-805e-432a-82e4-b2134e791fb4",
   "metadata": {},
   "outputs": [],
   "source": [
    "model_nb = GaussianNB()\n",
    "model_nb.fit(x_train, y_train)"
   ]
  },
  {
   "cell_type": "code",
   "execution_count": null,
   "id": "cda968e6-68b1-4f5a-89d6-9e0b9af5fe2c",
   "metadata": {},
   "outputs": [],
   "source": [
    "\n",
    "print(\"\\nNaive Bayes\")\n",
    "y_pred_nb = model_nb.predict(x_test)\n",
    "y_prob_nb = model_nb.predict_proba(x_test)[:,1]\n",
    "print(\"Accuracy:\", accuracy_score(y_test, y_pred_nb)) \n",
    "print(\"Precision:\", precision_score(y_test, y_pred_nb)) \n",
    "print(\"Recall:\", recall_score(y_test, y_pred_nb))\n",
    "print(\"F1 Score:\", f1_score(y_test, y_pred_nb)) \n",
    "print(\"ROC AUC:\", roc_auc_score(y_test, y_prob_nb)) \n",
    "print(\"Classification Report:\\n\", classification_report(y_test, y_pred_nb))"
   ]
  },
  {
   "cell_type": "markdown",
   "id": "5e87c025-7c4f-4912-8bbb-bebb45de6007",
   "metadata": {},
   "source": [
    "KNeighbors Classifier"
   ]
  },
  {
   "cell_type": "code",
   "execution_count": null,
   "id": "9968a4ce-e04e-4e5a-b2fe-21099ca6006d",
   "metadata": {},
   "outputs": [],
   "source": []
  },
  {
   "cell_type": "code",
   "execution_count": null,
   "id": "b8aed488-2f69-404a-b12b-9e7483a6c647",
   "metadata": {},
   "outputs": [],
   "source": [
    "knn=KNeighborsClassifier()\n",
    "knn_params = {'n_neighbors': [3, 5], 'weights': ['uniform', 'distance'],'metric': ['euclidean']}\n",
    "knn_grid= GridSearchCV(knn, knn_params, cv=5, scoring='accuracy')\n",
    "knn_grid.fit(x_train, y_train)"
   ]
  },
  {
   "cell_type": "code",
   "execution_count": null,
   "id": "4076ba14-ab76-436a-8ccf-7a154c8b5d76",
   "metadata": {},
   "outputs": [],
   "source": [
    "model_knn= knn_grid.best_estimator_\n",
    "y_pred_knn = model_knn.predict(x_test)"
   ]
  },
  {
   "cell_type": "code",
   "execution_count": null,
   "id": "3f69bc20-5c42-4d6b-805a-b844c6e2252f",
   "metadata": {},
   "outputs": [],
   "source": [
    "print(\"\\nKNeighborsClassifier\")\n",
    "y_pred_knn = model_knn.predict(x_test)\n",
    "y_prob_knn = model_knn.predict_proba(x_test)[:,1]\n",
    "print(\"Accuracy:\", accuracy_score(y_test, y_pred_knn)) \n",
    "print(\"Precision:\", precision_score(y_test, y_pred_knn)) \n",
    "print(\"Recall:\", recall_score(y_test, y_pred_knn))\n",
    "print(\"F1 Score:\", f1_score(y_test, y_pred_knn)) \n",
    "print(\"ROC AUC:\", roc_auc_score(y_test, y_prob_knn)) \n",
    "print(\"Classification Report:\\n\", classification_report(y_test, y_pred_knn))"
   ]
  },
  {
   "cell_type": "markdown",
   "id": "bf1b25a8-11ef-4d10-bdac-71c09074ce2e",
   "metadata": {},
   "source": [
    "Save the Best Model, scaler and encoders  using  joblib"
   ]
  },
  {
   "cell_type": "code",
   "execution_count": null,
   "id": "5d854769-3bf4-438e-8bb6-6404fd3a58f3",
   "metadata": {},
   "outputs": [],
   "source": [
    "import joblib\n",
    "joblib.dump(model_rf,open('model_rf.pkl','wb')) #save model\n",
    "joblib.dump(scaler,open('scaler.pkl','wb'))\n",
    "joblib.dump(l_gen,open('l_gen.pkl','wb'))\n",
    "joblib.dump(l_evrmd,open('l_evrmd.pkl','wb'))\n",
    "joblib.dump(l_restype,open('l_restype.pkl','wb'))\n",
    "joblib.dump(l_worktype,open('l_worktype.pkl','wb'))\n",
    "joblib.dump(l_smoking,open('l_smoking.pkl','wb'))"
   ]
  },
  {
   "cell_type": "code",
   "execution_count": null,
   "id": "f6dba8ac-a2fd-479a-92f3-8cc8e2c8cc6e",
   "metadata": {},
   "outputs": [],
   "source": [
    "model_rf=joblib.load(open('model_rf.pkl','rb'))\n",
    "scaler=joblib.load(open('scaler.pkl','rb'))\n",
    "l_gen=joblib.load(open('l_gen.pkl','rb'))\n",
    "l_restype=joblib.load(open('l_restype.pkl','rb'))\n",
    "l_evrmd=joblib.load(open('l_evrmd.pkl','rb'))\n",
    "l_worktype=joblib.load(open('l_worktype.pkl','rb'))\n",
    "l_smoking=joblib.load(open('l_smoking.pkl','rb'))"
   ]
  },
  {
   "cell_type": "code",
   "execution_count": null,
   "id": "7e744ea2-356b-4e1d-8779-248e91d84361",
   "metadata": {},
   "outputs": [],
   "source": [
    "x"
   ]
  },
  {
   "cell_type": "markdown",
   "id": "652cb8de-774d-4a28-a855-6fe82c2d003a",
   "metadata": {},
   "source": [
    "Prediction"
   ]
  },
  {
   "cell_type": "code",
   "execution_count": null,
   "id": "98fb2813-bde0-4f16-8a18-bfef83e2315b",
   "metadata": {},
   "outputs": [],
   "source": [
    "gender = input(\"Enter gender (Male, Female, Other): \")\n",
    "age = float(input(\"Enter age: \"))\n",
    "hypertension = int(input(\"Has hypertension? (0 = No, 1 = Yes): \"))\n",
    "heart_disease = int(input(\"Has heart disease? (0 = No, 1 = Yes): \"))\n",
    "ever_married = input(\"Ever married? (Yes or No): \")\n",
    "work_type = input(\"Enter work type (Private, Self-employed, Govt_job, children, Never_worked): \")\n",
    "residence_type = input(\"Enter residence type (Urban or Rural): \")\n",
    "avg_glucose_level = float(input(\"Enter average glucose level: \"))\n",
    "bmi = float(input(\"Enter BMI: \"))\n",
    "smoking_status = input(\"Smoking status (formerly smoked, never smoked, smokes, Unknown): \")\n",
    "\n",
    "\n",
    "data = {\n",
    "    'gender': [gender],\n",
    "    'age': [age],\n",
    "    'hypertension': [hypertension],\n",
    "    'heart_disease': [heart_disease],\n",
    "    'ever_married': [ever_married],\n",
    "    'work_type': [work_type],\n",
    "    'Residence_type': [residence_type],\n",
    "    'avg_glucose_level': [avg_glucose_level],\n",
    "    'bmi': [bmi],\n",
    "    'smoking_status': [smoking_status]\n",
    "}\n",
    "df = pd.DataFrame(data)\n",
    "\n",
    "# Encode categorical values\n",
    "df['gender'] = l_gen.transform(df['gender'])\n",
    "df['ever_married'] = l_evrmd.transform(df['ever_married'])\n",
    "df['Residence_type'] = l_restype.transform(df['Residence_type'])\n",
    "df['work_type'] = l_worktype.transform(df['work_type'])\n",
    "df['smoking_status'] = l_smoking.transform(df['smoking_status'])\n",
    "\n",
    "# Scale numerical features\n",
    "df_scaled = scaler.transform(df)\n",
    "# Predict\n",
    "predict= model_rf.predict(df_scaled)[0]\n",
    "# Output\n",
    "if predict == 1:\n",
    "    print(f\"The person is likely to have a stroke\")\n",
    "else:\n",
    "    print(f\"The person is not likely to have a stroke\")"
   ]
  },
  {
   "cell_type": "code",
   "execution_count": null,
   "id": "c73b21c8-b908-47b4-a693-cac555d239fa",
   "metadata": {},
   "outputs": [],
   "source": []
  }
 ],
 "metadata": {
  "kernelspec": {
   "display_name": "Python [conda env:base] *",
   "language": "python",
   "name": "conda-base-py"
  },
  "language_info": {
   "codemirror_mode": {
    "name": "ipython",
    "version": 3
   },
   "file_extension": ".py",
   "mimetype": "text/x-python",
   "name": "python",
   "nbconvert_exporter": "python",
   "pygments_lexer": "ipython3",
   "version": "3.13.5"
  }
 },
 "nbformat": 4,
 "nbformat_minor": 5
}
